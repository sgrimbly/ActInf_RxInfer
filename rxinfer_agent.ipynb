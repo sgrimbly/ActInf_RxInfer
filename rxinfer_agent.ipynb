{
 "cells": [
  {
   "cell_type": "markdown",
   "metadata": {},
   "source": [
    "# Notebook for testing RxInfer.jl"
   ]
  },
  {
   "cell_type": "code",
   "execution_count": null,
   "metadata": {},
   "outputs": [],
   "source": [
    "# Activate local environment, see `Project.toml`\n",
    "import Pkg; Pkg.activate(\"..\"); Pkg.instantiate();"
   ]
  },
  {
   "cell_type": "code",
   "execution_count": null,
   "metadata": {},
   "outputs": [],
   "source": [
    "using RxInfer, Random"
   ]
  },
  {
   "cell_type": "code",
   "execution_count": null,
   "metadata": {},
   "outputs": [],
   "source": [
    "rng = MersenneTwister(42)\n",
    "n = 500\n",
    "θ_real = 0.75\n",
    "distribution = Bernoulli(θ_real)\n",
    "\n",
    "dataset = float.(rand(rng, Bernoulli(θ_real), n));"
   ]
  },
  {
   "cell_type": "code",
   "execution_count": null,
   "metadata": {},
   "outputs": [],
   "source": [
    "# GraphPPL.jl export `@model` macro for model specification\n",
    "# It accepts a regular Julia function and builds an FFG under the hood\n",
    "@model function coin_model(y, a, b)\n",
    "\n",
    "    # We endow θ parameter of our model with \"a\" prior\n",
    "    θ ~ Beta(a, b)\n",
    "    # note that, in this particular case, the `Uniform(0.0, 1.0)` prior will also work.\n",
    "    # θ ~ Uniform(0.0, 1.0)\n",
    "\n",
    "    # here, the outcome of each coin toss is governed by the Bernoulli distribution\n",
    "    for i in eachindex(y)\n",
    "        y[i] ~ Bernoulli(θ)\n",
    "    end\n",
    "\n",
    "end"
   ]
  },
  {
   "cell_type": "code",
   "execution_count": null,
   "metadata": {},
   "outputs": [],
   "source": []
  }
 ],
 "metadata": {
  "kernelspec": {
   "display_name": "Julia 1.6.3",
   "language": "julia",
   "name": "julia-1.6"
  },
  "language_info": {
   "file_extension": ".jl",
   "mimetype": "application/julia",
   "name": "julia",
   "version": "1.6.3"
  }
 },
 "nbformat": 4,
 "nbformat_minor": 2
}
